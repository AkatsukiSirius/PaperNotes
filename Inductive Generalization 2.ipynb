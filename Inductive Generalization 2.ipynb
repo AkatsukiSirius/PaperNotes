{
 "cells": [
  {
   "cell_type": "markdown",
   "metadata": {},
   "source": [
    "# Preliminary"
   ]
  },
  {
   "cell_type": "markdown",
   "metadata": {},
   "source": [
    "[Equivalence relation](https://en.wikipedia.org/wiki/Equivalence_relation)\n",
    "\n",
    "[Partial Order](https://www.cs.odu.edu/~cs381/cs381content/relation/order/order.html) (P， $\\leq$)\n",
    "\n",
    "[Hasse Diagram](http://mathworld.wolfram.com/HasseDiagram.html)\n",
    "\n",
    "[Total Order](http://mathworld.wolfram.com/TotallyOrderedSet.html)\n",
    "\n",
    "[Least, greatest member (unique)]()\n",
    "\n",
    "[Lower Bound, Upper Bound, LUB and GLB]()"
   ]
  },
  {
   "cell_type": "markdown",
   "metadata": {},
   "source": [
    "## Lattice\n",
    "\n",
    "- Partial order(L,$\\leq$)\n",
    "\n",
    "- $\\forall a, b \\in L$\n",
    "\n",
    "- if each pair a,b has LGB, GUP\n",
    "\n",
    "Then this partial order L is lattice\n",
    "\n",
    "- LGB(a,b): a+b, join\n",
    "\n",
    "- GUP(a,b): a.b, meet\n",
    "\n",
    "Check lattice?\n",
    "\n",
    "- Pick each pair and check whether they have LGB, GUP\n",
    "\n",
    "- If evey pair has LGB and GUP, this set is lattice"
   ]
  },
  {
   "cell_type": "code",
   "execution_count": null,
   "metadata": {
    "collapsed": true
   },
   "outputs": [],
   "source": []
  }
 ],
 "metadata": {
  "kernelspec": {
   "display_name": "Python [default]",
   "language": "python",
   "name": "python3"
  },
  "language_info": {
   "codemirror_mode": {
    "name": "ipython",
    "version": 3
   },
   "file_extension": ".py",
   "mimetype": "text/x-python",
   "name": "python",
   "nbconvert_exporter": "python",
   "pygments_lexer": "ipython3",
   "version": "3.5.2"
  }
 },
 "nbformat": 4,
 "nbformat_minor": 1
}
