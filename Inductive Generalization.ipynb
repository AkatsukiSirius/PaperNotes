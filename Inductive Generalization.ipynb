{
 "cells": [
  {
   "cell_type": "markdown",
   "metadata": {
    "collapsed": true
   },
   "source": [
    "# 1. Least Gneralization\n",
    "\n",
    "## Purpose:\n",
    "\n",
    "### Find a rule via FOL,  to get a Least Generalization (antecedants $\\rightarrow$ conclusion)\n",
    "\n"
   ]
  },
  {
   "cell_type": "markdown",
   "metadata": {},
   "source": [
    "# 2. Substitution & Subsume\n",
    "\n",
    "## General - Substitution:\n",
    "\n",
    "### $\\text{Literal: }L_1 \\text{is more general than }L_2\\text{, if} L_1 = \\sigma L_2\\text{, for some substitution }\\sigma$\n",
    "\n",
    "## General - Subsume(instance):\n",
    "\n",
    "### $\\text{Clause: }C_1 \\text{is more general than }C_2\\text{, if } C_1 \\rhd  C_2 \\Leftrightarrow C_2 \\text{ is a instance of } C_1$"
   ]
  },
  {
   "cell_type": "markdown",
   "metadata": {},
   "source": [
    "# 3. Preliminary (word, term, literal, clause, function or predicate)"
   ]
  },
  {
   "cell_type": "code",
   "execution_count": null,
   "metadata": {
    "collapsed": true
   },
   "outputs": [],
   "source": []
  }
 ],
 "metadata": {
  "kernelspec": {
   "display_name": "Python 3",
   "language": "python",
   "name": "python3"
  },
  "language_info": {
   "codemirror_mode": {
    "name": "ipython",
    "version": 3
   },
   "file_extension": ".py",
   "mimetype": "text/x-python",
   "name": "python",
   "nbconvert_exporter": "python",
   "pygments_lexer": "ipython3",
   "version": "3.6.3"
  }
 },
 "nbformat": 4,
 "nbformat_minor": 1
}
